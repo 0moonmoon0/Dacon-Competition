{
 "cells": [
  {
   "cell_type": "code",
   "execution_count": 2,
   "metadata": {},
   "outputs": [
    {
     "name": "stdout",
     "output_type": "stream",
     "text": [
      "1.0.61\n"
     ]
    }
   ],
   "source": [
    "import os \n",
    "import pandas as pd\n",
    "import numpy as np\n",
    "from glob import glob\n",
    "from tqdm import tqdm\n",
    "import cv2\n",
    "import fastai\n",
    "print(fastai.__version__)\n",
    "\n",
    "from fastai.vision import *\n",
    "from fastai.tabular import *\n",
    "from image_tabular.core import *\n",
    "from image_tabular.dataset import *\n",
    "from image_tabular.model import *\n",
    "from image_tabular.metric import *\n",
    "import torch\n",
    "import pandas as pd\n",
    "\n",
    "# use gpu by default if available\n",
    "device = torch.device('cuda:0' if torch.cuda.is_available() else 'cpu')"
   ]
  },
  {
   "cell_type": "code",
   "execution_count": 4,
   "metadata": {},
   "outputs": [],
   "source": [
    "main_path = \"C:/Users/skmoon/Desktop/DACON_GROWTH\"\n",
    "train_imgs = glob(main_path+\"/train/*/*/*.png\") + glob(main_path+\"/train/*/*/*.jpg\")\n",
    "train_imgs = sorted(train_imgs)\n",
    "test_imgs = glob(main_path+\"/test/image/*.png\") + glob(main_path+\"/test/image/*.jpg\")\n",
    "test_imgs = sorted(test_imgs)\n",
    "train_data = glob(main_path+\"/train/*/meta/*.csv\")\n",
    "train_label = glob(main_path+\"/train/*/*.csv\")\n",
    "test_data = glob(main_path+\"/test/meta/*.csv\")\n",
    "preprocessing_train_imgs = \"C:/Users/skmoon/Desktop/DACON_GROWTH/PREPROCESSING-TRAIN\"\n",
    "preprocessing_test_imgs = \"C:/Users/skmoon/Desktop/DACON_GROWTH/PREPROCESSING-TEST\"\n",
    "if not os.path.exists(preprocessing_train_imgs):\n",
    "    os.mkdir(preprocessing_train_imgs)\n",
    "if not os.path.exists(preprocessing_test_imgs):\n",
    "    os.mkdir(preprocessing_test_imgs)\n"
   ]
  },
  {
   "cell_type": "code",
   "execution_count": 17,
   "metadata": {},
   "outputs": [
    {
     "name": "stderr",
     "output_type": "stream",
     "text": [
      "100%|██████████| 1592/1592 [06:13<00:00,  4.26it/s]\n",
      "100%|██████████| 460/460 [01:48<00:00,  4.25it/s]\n"
     ]
    }
   ],
   "source": [
    "for i in tqdm(train_imgs):\n",
    "    name = i.split(\"\\\\\")[-1]\n",
    "    img = cv2.imread(i, cv2.IMREAD_COLOR)\n",
    "    img = cv2.resize(img, dsize=(512, 512), interpolation=cv2.INTER_AREA)\n",
    "    cv2.imwrite(os.path.join(preprocessing_train_imgs,name), img)\n",
    "\n",
    "for i in tqdm(test_imgs):\n",
    "    name = i.split(\"\\\\\")[-1]\n",
    "    img = cv2.imread(i, cv2.IMREAD_COLOR)\n",
    "    img = cv2.resize(img, dsize=(512, 512), interpolation=cv2.INTER_AREA)\n",
    "    cv2.imwrite(os.path.join(preprocessing_test_imgs,name), img)"
   ]
  },
  {
   "cell_type": "code",
   "execution_count": 5,
   "metadata": {},
   "outputs": [
    {
     "name": "stderr",
     "output_type": "stream",
     "text": [
      "1592it [00:43, 36.80it/s]\n"
     ]
    },
    {
     "data": {
      "text/html": [
       "<div>\n",
       "<style scoped>\n",
       "    .dataframe tbody tr th:only-of-type {\n",
       "        vertical-align: middle;\n",
       "    }\n",
       "\n",
       "    .dataframe tbody tr th {\n",
       "        vertical-align: top;\n",
       "    }\n",
       "\n",
       "    .dataframe thead th {\n",
       "        text-align: right;\n",
       "    }\n",
       "</style>\n",
       "<table border=\"1\" class=\"dataframe\">\n",
       "  <thead>\n",
       "    <tr style=\"text-align: right;\">\n",
       "      <th></th>\n",
       "      <th>내부온도관측치</th>\n",
       "      <th>외부온도관측치</th>\n",
       "      <th>내부습도관측치</th>\n",
       "      <th>외부습도관측치</th>\n",
       "      <th>CO2관측치</th>\n",
       "      <th>EC관측치</th>\n",
       "      <th>최근분무량</th>\n",
       "      <th>화이트 LED동작강도</th>\n",
       "      <th>레드 LED동작강도</th>\n",
       "      <th>블루 LED동작강도</th>\n",
       "      <th>냉방온도</th>\n",
       "      <th>냉방부하</th>\n",
       "      <th>난방온도</th>\n",
       "      <th>난방부하</th>\n",
       "      <th>총추정광량</th>\n",
       "      <th>백색광추정광량</th>\n",
       "      <th>적색광추정광량</th>\n",
       "      <th>청색광추정광량</th>\n",
       "      <th>무게</th>\n",
       "      <th>이미지</th>\n",
       "    </tr>\n",
       "  </thead>\n",
       "  <tbody>\n",
       "    <tr>\n",
       "      <th>0</th>\n",
       "      <td>22.236181</td>\n",
       "      <td>43.868542</td>\n",
       "      <td>77.740695</td>\n",
       "      <td>4.676042</td>\n",
       "      <td>487.226389</td>\n",
       "      <td>19.594792</td>\n",
       "      <td>0.0</td>\n",
       "      <td>200.720833</td>\n",
       "      <td>201.000000</td>\n",
       "      <td>0.139583</td>\n",
       "      <td>17.416635</td>\n",
       "      <td>179.460356</td>\n",
       "      <td>18.854103</td>\n",
       "      <td>10.228598</td>\n",
       "      <td>145.944829</td>\n",
       "      <td>12.396061</td>\n",
       "      <td>21.119466</td>\n",
       "      <td>0.0</td>\n",
       "      <td>49.193</td>\n",
       "      <td>CASE01_01.png</td>\n",
       "    </tr>\n",
       "    <tr>\n",
       "      <th>1</th>\n",
       "      <td>23.011319</td>\n",
       "      <td>44.573750</td>\n",
       "      <td>77.645972</td>\n",
       "      <td>4.537500</td>\n",
       "      <td>480.144444</td>\n",
       "      <td>20.855555</td>\n",
       "      <td>0.0</td>\n",
       "      <td>200.861111</td>\n",
       "      <td>200.861111</td>\n",
       "      <td>0.139583</td>\n",
       "      <td>17.416462</td>\n",
       "      <td>179.471631</td>\n",
       "      <td>18.853965</td>\n",
       "      <td>13.709128</td>\n",
       "      <td>145.980283</td>\n",
       "      <td>12.391464</td>\n",
       "      <td>21.099885</td>\n",
       "      <td>0.0</td>\n",
       "      <td>59.764</td>\n",
       "      <td>CASE01_02.png</td>\n",
       "    </tr>\n",
       "    <tr>\n",
       "      <th>2</th>\n",
       "      <td>22.931111</td>\n",
       "      <td>39.537708</td>\n",
       "      <td>77.514931</td>\n",
       "      <td>4.886111</td>\n",
       "      <td>489.068750</td>\n",
       "      <td>20.748611</td>\n",
       "      <td>0.0</td>\n",
       "      <td>200.720833</td>\n",
       "      <td>200.443056</td>\n",
       "      <td>0.139583</td>\n",
       "      <td>17.416667</td>\n",
       "      <td>179.523570</td>\n",
       "      <td>18.854171</td>\n",
       "      <td>13.348331</td>\n",
       "      <td>146.015736</td>\n",
       "      <td>12.374227</td>\n",
       "      <td>21.133608</td>\n",
       "      <td>0.0</td>\n",
       "      <td>72.209</td>\n",
       "      <td>CASE01_03.png</td>\n",
       "    </tr>\n",
       "    <tr>\n",
       "      <th>3</th>\n",
       "      <td>21.027986</td>\n",
       "      <td>58.497500</td>\n",
       "      <td>80.069930</td>\n",
       "      <td>3.908333</td>\n",
       "      <td>481.378472</td>\n",
       "      <td>18.195278</td>\n",
       "      <td>0.0</td>\n",
       "      <td>200.025000</td>\n",
       "      <td>200.163889</td>\n",
       "      <td>0.139583</td>\n",
       "      <td>17.416674</td>\n",
       "      <td>179.495845</td>\n",
       "      <td>18.854174</td>\n",
       "      <td>7.520480</td>\n",
       "      <td>145.997472</td>\n",
       "      <td>12.370205</td>\n",
       "      <td>21.128169</td>\n",
       "      <td>0.0</td>\n",
       "      <td>85.737</td>\n",
       "      <td>CASE01_04.png</td>\n",
       "    </tr>\n",
       "    <tr>\n",
       "      <th>4</th>\n",
       "      <td>21.874305</td>\n",
       "      <td>67.058819</td>\n",
       "      <td>81.349792</td>\n",
       "      <td>3.908333</td>\n",
       "      <td>490.568750</td>\n",
       "      <td>19.400486</td>\n",
       "      <td>0.0</td>\n",
       "      <td>200.861111</td>\n",
       "      <td>201.000000</td>\n",
       "      <td>0.139583</td>\n",
       "      <td>17.416641</td>\n",
       "      <td>179.488241</td>\n",
       "      <td>18.854140</td>\n",
       "      <td>10.943552</td>\n",
       "      <td>145.971688</td>\n",
       "      <td>12.394912</td>\n",
       "      <td>21.121642</td>\n",
       "      <td>0.0</td>\n",
       "      <td>102.537</td>\n",
       "      <td>CASE01_05.png</td>\n",
       "    </tr>\n",
       "  </tbody>\n",
       "</table>\n",
       "</div>"
      ],
      "text/plain": [
       "     내부온도관측치    외부온도관측치    내부습도관측치   외부습도관측치      CO2관측치      EC관측치  최근분무량  \\\n",
       "0  22.236181  43.868542  77.740695  4.676042  487.226389  19.594792    0.0   \n",
       "1  23.011319  44.573750  77.645972  4.537500  480.144444  20.855555    0.0   \n",
       "2  22.931111  39.537708  77.514931  4.886111  489.068750  20.748611    0.0   \n",
       "3  21.027986  58.497500  80.069930  3.908333  481.378472  18.195278    0.0   \n",
       "4  21.874305  67.058819  81.349792  3.908333  490.568750  19.400486    0.0   \n",
       "\n",
       "   화이트 LED동작강도  레드 LED동작강도  블루 LED동작강도       냉방온도        냉방부하       난방온도  \\\n",
       "0   200.720833  201.000000    0.139583  17.416635  179.460356  18.854103   \n",
       "1   200.861111  200.861111    0.139583  17.416462  179.471631  18.853965   \n",
       "2   200.720833  200.443056    0.139583  17.416667  179.523570  18.854171   \n",
       "3   200.025000  200.163889    0.139583  17.416674  179.495845  18.854174   \n",
       "4   200.861111  201.000000    0.139583  17.416641  179.488241  18.854140   \n",
       "\n",
       "        난방부하       총추정광량    백색광추정광량    적색광추정광량  청색광추정광량       무게  \\\n",
       "0  10.228598  145.944829  12.396061  21.119466      0.0   49.193   \n",
       "1  13.709128  145.980283  12.391464  21.099885      0.0   59.764   \n",
       "2  13.348331  146.015736  12.374227  21.133608      0.0   72.209   \n",
       "3   7.520480  145.997472  12.370205  21.128169      0.0   85.737   \n",
       "4  10.943552  145.971688  12.394912  21.121642      0.0  102.537   \n",
       "\n",
       "             이미지  \n",
       "0  CASE01_01.png  \n",
       "1  CASE01_02.png  \n",
       "2  CASE01_03.png  \n",
       "3  CASE01_04.png  \n",
       "4  CASE01_05.png  "
      ]
     },
     "execution_count": 5,
     "metadata": {},
     "output_type": "execute_result"
    }
   ],
   "source": [
    "train_df = []\n",
    "for i, j in tqdm(zip(train_data, train_imgs)):\n",
    "    name = i.split(\"\\\\\")[-1].split(\".\")[0]\n",
    "    df = pd.read_csv(i)\n",
    "    df = df.drop('시간', axis = 1)\n",
    "    case = name.split(\"_\")[0]\n",
    "    label = pd.read_csv(f\"C:/Users/skmoon/Desktop/DACON_GROWTH/train/{case}/label.csv\")\n",
    "    label_name = [i.split(\".\")[0] for i in label.img_name]\n",
    "    label.img_name = label_name\n",
    "    leaf_weight = label[label.img_name == name].leaf_weight.values[0]\n",
    "    df[\"무게\"] = leaf_weight\n",
    "    df[\"화이트 LED동작강도\"] = df[\"화이트 LED동작강도\"].fillna(method='bfill', limit=1)\n",
    "    df[\"화이트 LED동작강도\"] = df[\"화이트 LED동작강도\"].fillna(method='ffill', limit=1)\n",
    "    df[\"레드 LED동작강도\"] = df[\"레드 LED동작강도\"].fillna(method='bfill', limit=1)\n",
    "    df[\"레드 LED동작강도\"] = df[\"레드 LED동작강도\"].fillna(method='ffill', limit=1)\n",
    "    df[\"블루 LED동작강도\"] = df[\"블루 LED동작강도\"].fillna(method='bfill', limit=1)\n",
    "    df[\"블루 LED동작강도\"] = df[\"블루 LED동작강도\"].fillna(method='ffill', limit=1)\n",
    "    df[\"최근분무량\"] = df[\"최근분무량\"].fillna(method='bfill', limit=1)\n",
    "    df[\"최근분무량\"] = df[\"최근분무량\"].fillna(method='ffill', limit=1)\n",
    "    df = df.interpolate()\n",
    "    df = df.fillna(0.0)\n",
    "    '''\n",
    "    정량이 정해져 있음 bbfill, ffill (LED, 분무량)\n",
    "    정량이 정해져 있지 않음 interpolate (그외)\n",
    "    '''\n",
    "    df = df.mean()\n",
    "    df = df.to_frame().T\n",
    "\n",
    "    df[\"이미지\"] = j.split(\"\\\\\")[-1]\n",
    "\n",
    "    train_df.append(df)\n",
    "\n",
    "train_df = pd.concat(train_df, ignore_index=True)\n",
    "train_df.head()"
   ]
  },
  {
   "cell_type": "code",
   "execution_count": 12,
   "metadata": {},
   "outputs": [
    {
     "name": "stderr",
     "output_type": "stream",
     "text": [
      "460it [00:08, 53.06it/s]\n"
     ]
    },
    {
     "data": {
      "text/html": [
       "<div>\n",
       "<style scoped>\n",
       "    .dataframe tbody tr th:only-of-type {\n",
       "        vertical-align: middle;\n",
       "    }\n",
       "\n",
       "    .dataframe tbody tr th {\n",
       "        vertical-align: top;\n",
       "    }\n",
       "\n",
       "    .dataframe thead th {\n",
       "        text-align: right;\n",
       "    }\n",
       "</style>\n",
       "<table border=\"1\" class=\"dataframe\">\n",
       "  <thead>\n",
       "    <tr style=\"text-align: right;\">\n",
       "      <th></th>\n",
       "      <th>내부온도관측치</th>\n",
       "      <th>외부온도관측치</th>\n",
       "      <th>내부습도관측치</th>\n",
       "      <th>외부습도관측치</th>\n",
       "      <th>CO2관측치</th>\n",
       "      <th>EC관측치</th>\n",
       "      <th>최근분무량</th>\n",
       "      <th>화이트 LED동작강도</th>\n",
       "      <th>레드 LED동작강도</th>\n",
       "      <th>블루 LED동작강도</th>\n",
       "      <th>냉방온도</th>\n",
       "      <th>냉방부하</th>\n",
       "      <th>난방온도</th>\n",
       "      <th>난방부하</th>\n",
       "      <th>총추정광량</th>\n",
       "      <th>백색광추정광량</th>\n",
       "      <th>적색광추정광량</th>\n",
       "      <th>청색광추정광량</th>\n",
       "      <th>이미지</th>\n",
       "    </tr>\n",
       "  </thead>\n",
       "  <tbody>\n",
       "    <tr>\n",
       "      <th>0</th>\n",
       "      <td>23.634861</td>\n",
       "      <td>22.564583</td>\n",
       "      <td>69.500486</td>\n",
       "      <td>34.499792</td>\n",
       "      <td>400.265278</td>\n",
       "      <td>0.000000</td>\n",
       "      <td>6120.690250</td>\n",
       "      <td>47.193750</td>\n",
       "      <td>7.484722</td>\n",
       "      <td>13.486806</td>\n",
       "      <td>22.395829</td>\n",
       "      <td>6.198268</td>\n",
       "      <td>20.395829</td>\n",
       "      <td>0.000000</td>\n",
       "      <td>179.576697</td>\n",
       "      <td>146.045817</td>\n",
       "      <td>12.398359</td>\n",
       "      <td>21.132520</td>\n",
       "      <td>001.png</td>\n",
       "    </tr>\n",
       "    <tr>\n",
       "      <th>1</th>\n",
       "      <td>27.170347</td>\n",
       "      <td>28.738472</td>\n",
       "      <td>63.881805</td>\n",
       "      <td>50.837708</td>\n",
       "      <td>505.823611</td>\n",
       "      <td>0.000000</td>\n",
       "      <td>650.293681</td>\n",
       "      <td>33.498611</td>\n",
       "      <td>9.508333</td>\n",
       "      <td>4.722222</td>\n",
       "      <td>23.396007</td>\n",
       "      <td>23.875345</td>\n",
       "      <td>22.396007</td>\n",
       "      <td>0.000000</td>\n",
       "      <td>126.724400</td>\n",
       "      <td>103.602930</td>\n",
       "      <td>15.725197</td>\n",
       "      <td>7.396273</td>\n",
       "      <td>002.png</td>\n",
       "    </tr>\n",
       "    <tr>\n",
       "      <th>2</th>\n",
       "      <td>25.999340</td>\n",
       "      <td>25.541111</td>\n",
       "      <td>79.197812</td>\n",
       "      <td>65.936597</td>\n",
       "      <td>498.623611</td>\n",
       "      <td>1.778872</td>\n",
       "      <td>110.823069</td>\n",
       "      <td>47.191667</td>\n",
       "      <td>7.487500</td>\n",
       "      <td>13.477083</td>\n",
       "      <td>20.291920</td>\n",
       "      <td>42.908664</td>\n",
       "      <td>17.416844</td>\n",
       "      <td>0.606961</td>\n",
       "      <td>179.532997</td>\n",
       "      <td>146.026479</td>\n",
       "      <td>12.390315</td>\n",
       "      <td>21.116202</td>\n",
       "      <td>003.png</td>\n",
       "    </tr>\n",
       "    <tr>\n",
       "      <th>3</th>\n",
       "      <td>22.956944</td>\n",
       "      <td>22.361667</td>\n",
       "      <td>70.809792</td>\n",
       "      <td>45.378646</td>\n",
       "      <td>394.612500</td>\n",
       "      <td>0.592409</td>\n",
       "      <td>6324.772167</td>\n",
       "      <td>47.187500</td>\n",
       "      <td>7.483333</td>\n",
       "      <td>13.479167</td>\n",
       "      <td>22.395793</td>\n",
       "      <td>2.911434</td>\n",
       "      <td>20.395793</td>\n",
       "      <td>0.000000</td>\n",
       "      <td>179.449739</td>\n",
       "      <td>145.950201</td>\n",
       "      <td>12.392039</td>\n",
       "      <td>21.107500</td>\n",
       "      <td>004.png</td>\n",
       "    </tr>\n",
       "    <tr>\n",
       "      <th>4</th>\n",
       "      <td>23.014757</td>\n",
       "      <td>22.531736</td>\n",
       "      <td>73.886944</td>\n",
       "      <td>33.534167</td>\n",
       "      <td>418.561806</td>\n",
       "      <td>0.541303</td>\n",
       "      <td>6478.004611</td>\n",
       "      <td>47.188194</td>\n",
       "      <td>7.465972</td>\n",
       "      <td>13.478472</td>\n",
       "      <td>22.395846</td>\n",
       "      <td>3.179260</td>\n",
       "      <td>20.395846</td>\n",
       "      <td>0.000000</td>\n",
       "      <td>179.480870</td>\n",
       "      <td>145.998546</td>\n",
       "      <td>12.365033</td>\n",
       "      <td>21.117290</td>\n",
       "      <td>005.png</td>\n",
       "    </tr>\n",
       "  </tbody>\n",
       "</table>\n",
       "</div>"
      ],
      "text/plain": [
       "     내부온도관측치    외부온도관측치    내부습도관측치    외부습도관측치      CO2관측치     EC관측치  \\\n",
       "0  23.634861  22.564583  69.500486  34.499792  400.265278  0.000000   \n",
       "1  27.170347  28.738472  63.881805  50.837708  505.823611  0.000000   \n",
       "2  25.999340  25.541111  79.197812  65.936597  498.623611  1.778872   \n",
       "3  22.956944  22.361667  70.809792  45.378646  394.612500  0.592409   \n",
       "4  23.014757  22.531736  73.886944  33.534167  418.561806  0.541303   \n",
       "\n",
       "         최근분무량  화이트 LED동작강도  레드 LED동작강도  블루 LED동작강도       냉방온도       냉방부하  \\\n",
       "0  6120.690250    47.193750    7.484722   13.486806  22.395829   6.198268   \n",
       "1   650.293681    33.498611    9.508333    4.722222  23.396007  23.875345   \n",
       "2   110.823069    47.191667    7.487500   13.477083  20.291920  42.908664   \n",
       "3  6324.772167    47.187500    7.483333   13.479167  22.395793   2.911434   \n",
       "4  6478.004611    47.188194    7.465972   13.478472  22.395846   3.179260   \n",
       "\n",
       "        난방온도      난방부하       총추정광량     백색광추정광량    적색광추정광량    청색광추정광량      이미지  \n",
       "0  20.395829  0.000000  179.576697  146.045817  12.398359  21.132520  001.png  \n",
       "1  22.396007  0.000000  126.724400  103.602930  15.725197   7.396273  002.png  \n",
       "2  17.416844  0.606961  179.532997  146.026479  12.390315  21.116202  003.png  \n",
       "3  20.395793  0.000000  179.449739  145.950201  12.392039  21.107500  004.png  \n",
       "4  20.395846  0.000000  179.480870  145.998546  12.365033  21.117290  005.png  "
      ]
     },
     "execution_count": 12,
     "metadata": {},
     "output_type": "execute_result"
    }
   ],
   "source": [
    "test_df = []\n",
    "for i, j in tqdm(zip(test_data, test_imgs)):\n",
    "    name = i.split(\"\\\\\")[-1].split(\".\")[0]\n",
    "    df = pd.read_csv(i)\n",
    "    df = df.drop('시간', axis = 1)\n",
    "    df[\"화이트 LED동작강도\"] = df[\"화이트 LED동작강도\"].fillna(method='bfill', limit=1)\n",
    "    df[\"화이트 LED동작강도\"] = df[\"화이트 LED동작강도\"].fillna(method='ffill', limit=1)\n",
    "    df[\"레드 LED동작강도\"] = df[\"레드 LED동작강도\"].fillna(method='bfill', limit=1)\n",
    "    df[\"레드 LED동작강도\"] = df[\"레드 LED동작강도\"].fillna(method='ffill', limit=1)\n",
    "    df[\"블루 LED동작강도\"] = df[\"블루 LED동작강도\"].fillna(method='bfill', limit=1)\n",
    "    df[\"블루 LED동작강도\"] = df[\"블루 LED동작강도\"].fillna(method='ffill', limit=1)\n",
    "    df[\"최근분무량\"] = df[\"최근분무량\"].fillna(method='bfill', limit=1)\n",
    "    df[\"최근분무량\"] = df[\"최근분무량\"].fillna(method='ffill', limit=1)\n",
    "    df = df.interpolate()\n",
    "    df = df.fillna(0.0)\n",
    "\n",
    "    df = df.mean()\n",
    "    df = df.to_frame().T\n",
    "    df[\"이미지\"] = j.split(\"\\\\\")[-1]\n",
    "\n",
    "    test_df.append(df)\n",
    "    \n",
    "test_df = pd.concat(test_df, ignore_index=True)\n",
    "test_df.head()"
   ]
  },
  {
   "cell_type": "code",
   "execution_count": 13,
   "metadata": {},
   "outputs": [],
   "source": [
    "data_path = Path(\"./\")"
   ]
  },
  {
   "cell_type": "code",
   "execution_count": 14,
   "metadata": {},
   "outputs": [
    {
     "data": {
      "text/plain": [
       "318"
      ]
     },
     "execution_count": 14,
     "metadata": {},
     "output_type": "execute_result"
    }
   ],
   "source": [
    "# extremely unbalanced dataset, most of the images are benign\n",
    "train_df[\"무게\"].value_counts(normalize=True)\n",
    "tfms = get_transforms(flip_vert=True)\n",
    "size = 256\n",
    "# idx for validation, shared by image and tabular data\n",
    "val_idx = get_valid_index(train_df)\n",
    "len(val_idx)"
   ]
  },
  {
   "cell_type": "code",
   "execution_count": 15,
   "metadata": {},
   "outputs": [
    {
     "data": {
      "text/plain": [
       "WindowsPath('.')"
      ]
     },
     "execution_count": 15,
     "metadata": {},
     "output_type": "execute_result"
    }
   ],
   "source": [
    "data_path"
   ]
  },
  {
   "cell_type": "code",
   "execution_count": null,
   "metadata": {},
   "outputs": [],
   "source": [
    "# # load image data using train_df and prepare fastai LabelLists\n",
    "\n",
    "# image_data = (ImageList.from_folder(data_path/\"PREPROCESSING-TRAIN\", extensions=[\".png\", \".jpg\"])\n",
    "#                .split_by_idx(val_idx)\n",
    "#               .label_from_lists(train_df)\n",
    "#               )\n",
    "# image_data.train[0]\n"
   ]
  },
  {
   "cell_type": "code",
   "execution_count": 16,
   "metadata": {},
   "outputs": [
    {
     "name": "stderr",
     "output_type": "stream",
     "text": [
      "c:\\Users\\skmoon\\Desktop\\Virtual\\.venv\\lib\\site-packages\\fastai\\vision\\transform.py:247: UserWarning: torch.solve is deprecated in favor of torch.linalg.solveand will be removed in a future PyTorch release.\n",
      "torch.linalg.solve has its arguments reversed and does not return the LU factorization.\n",
      "To get the LU factorization see torch.lu, which can be used with torch.lu_solve or torch.lu_unpack.\n",
      "X = torch.solve(B, A).solution\n",
      "should be replaced with\n",
      "X = torch.linalg.solve(A, B) (Triggered internally at  ..\\aten\\src\\ATen\\native\\BatchLinearAlgebra.cpp:859.)\n",
      "  return _solve_func(B,A)[0][:,0]\n"
     ]
    },
    {
     "data": {
      "text/plain": [
       "LabelLists;\n",
       "\n",
       "Train: LabelList (1274 items)\n",
       "x: ImageList\n",
       "Image (3, 256, 256),Image (3, 256, 256),Image (3, 256, 256),Image (3, 256, 256),Image (3, 256, 256)\n",
       "y: FloatList\n",
       "49.193,85.737,156.149,174.931,187.523\n",
       "Path: .;\n",
       "\n",
       "Valid: LabelList (318 items)\n",
       "x: ImageList\n",
       "Image (3, 256, 256),Image (3, 256, 256),Image (3, 256, 256),Image (3, 256, 256),Image (3, 256, 256)\n",
       "y: FloatList\n",
       "31.241,302.911,4.222,169.959,169.785\n",
       "Path: .;\n",
       "\n",
       "Test: LabelList (460 items)\n",
       "x: ImageList\n",
       "Image (3, 256, 256),Image (3, 256, 256),Image (3, 256, 256),Image (3, 256, 256),Image (3, 256, 256)\n",
       "y: EmptyLabelList\n",
       ",,,,\n",
       "Path: ."
      ]
     },
     "execution_count": 16,
     "metadata": {},
     "output_type": "execute_result"
    }
   ],
   "source": [
    "# load image data using train_df and prepare fastai LabelLists\n",
    "\n",
    "image_data = (ImageList.from_df(train_df, path=data_path, cols=\"이미지\",\n",
    "                               folder=\"PREPROCESSING-TRAIN\")\n",
    "              .split_by_idx(val_idx)\n",
    "              .label_from_df(cols=\"무게\")\n",
    "              .transform(tfms, size=size))\n",
    "\n",
    "# add test data so that we can make predictions\n",
    "test_image_data = ImageList.from_df(test_df, path=data_path, cols=\"이미지\",\n",
    "                                    folder=\"PREPROCESSING-TEST\")\n",
    "image_data.add_test(test_image_data)"
   ]
  },
  {
   "cell_type": "code",
   "execution_count": 17,
   "metadata": {},
   "outputs": [
    {
     "name": "stdout",
     "output_type": "stream",
     "text": [
      "49.193\n"
     ]
    },
    {
     "data": {
      "image/jpeg": "[encoded data removed]",
      "image/png": "[encoded data removed]",
      "text/plain": [
       "Image (3, 256, 256)"
      ]
     },
     "execution_count": 17,
     "metadata": {},
     "output_type": "execute_result"
    }
   ],
   "source": [
    "# show one example image\n",
    "print(image_data.train[0][1])\n",
    "image_data.train[0][0]"
   ]
  },
  {
   "cell_type": "code",
   "execution_count": 18,
   "metadata": {},
   "outputs": [],
   "source": [
    "dep_var = '무게'\n",
    "cont_names = ['내부온도관측치',\t'외부온도관측치',\t'내부습도관측치',\t'외부습도관측치',\t'CO2관측치',\t'EC관측치',\t'최근분무량',\t'화이트 LED동작강도',\t'레드 LED동작강도',\t'블루 LED동작강도',\t'냉방온도',\t'냉방부하',\t'난방온도',\t'난방부하',\t'총추정광량',\t'백색광추정광량',\t'적색광추정광량',\t'청색광추정광량']\n",
    "procs = [FillMissing, Categorify, Normalize]"
   ]
  },
  {
   "cell_type": "code",
   "execution_count": 19,
   "metadata": {},
   "outputs": [
    {
     "data": {
      "text/plain": [
       "LabelLists;\n",
       "\n",
       "Train: LabelList (1274 items)\n",
       "x: TabularList\n",
       "내부온도관측치 0.0600; 외부온도관측치 2.0522; 내부습도관측치 0.9475; 외부습도관측치 -1.3070; CO2관측치 0.4416; EC관측치 8.7748; 최근분무량 -0.4863; 화이트 LED동작강도 6.3013; 레드 LED동작강도 8.9661; 블루 LED동작강도 -0.5290; 냉방온도 -0.1454; 냉방부하 7.5596; 난방온도 0.1813; 난방부하 2.1974; 총추정광량 0.1641; 백색광추정광량 -1.4222; 적색광추정광량 0.4667; 청색광추정광량 -0.5382; ,내부온도관측치 -0.0594; 외부온도관측치 3.3975; 내부습도관측치 1.0344; 외부습도관측치 -1.3422; CO2관측치 0.4117; EC관측치 8.1062; 최근분무량 -0.4863; 화이트 LED동작강도 6.2746; 레드 LED동작강도 8.9271; 블루 LED동작강도 -0.5290; 냉방온도 -0.1454; 냉방부하 7.5613; 난방온도 0.1813; 난방부하 1.5596; 총추정광량 0.1647; 백색광추정광량 -1.4226; 적색광추정광량 0.4671; 청색광추정광량 -0.5382; ,내부온도관측치 0.2788; 외부온도관측치 3.2205; 내부습도관측치 1.0885; 외부습도관측치 -1.2783; CO2관측치 0.5718; EC관측치 10.5742; 최근분무량 -0.4863; 화이트 LED동작강도 6.3013; 레드 LED동작강도 8.9661; 블루 LED동작강도 -0.5290; 냉방온도 -0.1454; 냉방부하 7.5655; 난방온도 0.1813; 난방부하 4.6847; 총추정광량 0.1656; 백색광추정광량 -1.4225; 적색광추정광량 0.4674; 청색광추정광량 -0.5382; ,내부온도관측치 0.2963; 외부온도관측치 3.7119; 내부습도관측치 1.1208; 외부습도관측치 -1.2974; CO2관측치 0.5799; EC관측치 10.6966; 최근분무량 -0.4863; 화이트 LED동작강도 6.2853; 레드 LED동작강도 8.9466; 블루 LED동작강도 -0.5290; 냉방온도 -0.1454; 냉방부하 7.5628; 난방온도 0.1813; 난방부하 4.8916; 총추정광량 0.1648; 백색광추정광량 -1.4221; 적색광추정광량 0.4669; 청색광추정광량 -0.5382; ,내부온도관측치 0.3696; 외부온도관측치 5.0574; 내부습도관측치 1.1618; 외부습도관측치 -1.3645; CO2관측치 0.4727; EC관측치 10.8179; 최근분무량 -0.4863; 화이트 LED동작강도 6.2906; 레드 LED동작강도 8.9401; 블루 LED동작강도 -0.5290; 냉방온도 -0.1454; 냉방부하 7.5581; 난방온도 0.1813; 난방부하 5.7644; 총추정광량 0.1643; 백색광추정광량 -1.4227; 적색광추정광량 0.4660; 청색광추정광량 -0.5382; \n",
       "y: FloatList\n",
       "49.193,85.737,156.149,174.931,187.523\n",
       "Path: .;\n",
       "\n",
       "Valid: LabelList (318 items)\n",
       "x: TabularList\n",
       "내부온도관측치 0.2223; 외부온도관측치 -0.1452; 내부습도관측치 0.8896; 외부습도관측치 0.3755; CO2관측치 0.6180; EC관측치 0.0971; 최근분무량 -0.4416; 화이트 LED동작강도 0.4127; 레드 LED동작강도 -0.0652; 블루 LED동작강도 0.3580; 냉방온도 0.5525; 냉방부하 -0.8674; 난방온도 0.6268; 난방부하 -0.1301; 총추정광량 0.5635; 백색광추정광량 0.5957; 적색광추정광량 0.0190; 청색광추정광량 0.3587; ,내부온도관측치 0.5455; 외부온도관측치 0.4417; 내부습도관측치 0.1225; 외부습도관측치 -0.1838; CO2관측치 0.1535; EC관측치 -0.5864; 최근분무량 -0.1879; 화이트 LED동작강도 -0.4803; 레드 LED동작강도 0.2534; 블루 LED동작강도 0.0960; 냉방온도 0.5406; 냉방부하 -0.0872; 난방온도 0.6141; 난방부하 -0.1309; 총추정광량 -0.2333; 백색광추정광량 -0.4915; 적색광추정광량 0.5972; 청색광추정광량 0.0959; ,내부온도관측치 0.4216; 외부온도관측치 0.0028; 내부습도관측치 0.1340; 외부습도관측치 -0.6761; CO2관측치 0.6967; EC관측치 1.4710; 최근분무량 -0.2404; 화이트 LED동작강도 2.4384; 레드 LED동작강도 2.3859; 블루 LED동작강도 6.1069; 냉방온도 0.5525; 냉방부하 -0.1753; 난방온도 0.6268; 난방부하 -0.1849; 총추정광량 5.1623; 백색광추정광량 3.0659; 적색광추정광량 4.4683; 청색광추정광량 6.1063; ,내부온도관측치 0.4937; 외부온도관측치 0.6132; 내부습도관측치 0.0799; 외부습도관측치 -0.5363; CO2관측치 0.3331; EC관측치 0.2748; 최근분무량 -0.1900; 화이트 LED동작강도 -0.4805; 레드 LED동작강도 0.2537; 블루 LED동작강도 0.0931; 냉방온도 0.5406; 냉방부하 -0.2223; 난방온도 0.6141; 난방부하 -0.1789; 총추정광량 -0.2347; 백색광추정광량 -0.4924; 적색광추정광량 0.5976; 청색광추정광량 0.0931; ,내부온도관측치 -2.1381; 외부온도관측치 -1.9819; 내부습도관측치 -1.9508; 외부습도관측치 -1.5212; CO2관측치 -2.0567; EC관측치 -0.5864; 최근분무량 -0.4863; 화이트 LED동작강도 -1.3969; 레드 LED동작강도 -0.4141; 블루 LED동작강도 -0.5382; 냉방온도 -2.1438; 냉방부하 -1.0137; 난방온도 -2.1226; 난방부하 -0.2115; 총추정광량 -1.5752; 백색광추정광량 -1.6095; 적색광추정광량 -0.6144; 청색광추정광량 -0.5382; \n",
       "y: FloatList\n",
       "31.241,302.911,4.222,169.959,169.785\n",
       "Path: .;\n",
       "\n",
       "Test: LabelList (460 items)\n",
       "x: TabularList\n",
       "내부온도관측치 0.1983; 외부온도관측치 0.0931; 내부습도관측치 0.6403; 외부습도관측치 0.0588; CO2관측치 -0.0043; EC관측치 -0.5864; 최근분무량 1.8957; 화이트 LED동작강도 0.4131; 레드 LED동작강도 -0.0648; 블루 LED동작강도 0.3580; 냉방온도 0.4259; 냉방부하 -0.7176; 난방온도 0.3697; 난방부하 -0.2115; 총추정광량 0.5649; 백색광추정광량 0.5973; 적색광추정광량 0.0203; 청색광추정광량 0.3582; ,내부온도관측치 0.5478; 외부온도관측치 0.6608; 내부습도관측치 0.4308; 외부습도관측치 0.8070; CO2관측치 0.5370; EC관측치 -0.5864; 최근분무량 -0.2332; 화이트 LED동작강도 -0.1121; 레드 LED동작강도 0.0296; 블루 LED동작강도 -0.2244; 냉방온도 0.5406; 냉방부하 0.1269; 난방온도 0.6141; 난방부하 -0.2115; 총추정광량 -0.0650; 백색광추정광량 -0.0440; 적색광추정광량 0.1906; 청색광추정광량 -0.2244; ,내부온도관측치 0.4320; 외부온도관측치 0.3668; 내부습도관측치 1.0019; 외부습도관측치 1.4985; CO2관측치 0.5001; EC관측치 0.2635; 최근분무량 -0.4431; 화이트 LED동작강도 0.4130; 레드 LED동작강도 -0.0647; 블루 LED동작강도 0.3573; 냉방온도 0.1845; 냉방부하 1.0362; 난방온도 0.0057; 난방부하 -0.0685; 총추정광량 0.5644; 백색광추정광량 0.5970; 적색광추정광량 0.0198; 청색광추정광량 0.3575; ,내부온도관측치 0.1313; 외부온도관측치 0.0744; 내부습도관측치 0.6891; 외부습도관측치 0.5570; CO2관측치 -0.0333; EC관측치 -0.3033; 최근분무량 1.9751; 화이트 LED동작강도 0.4129; 레드 LED동작강도 -0.0649; 블루 LED동작강도 0.3575; 냉방온도 0.4259; 냉방부하 -0.8746; 난방온도 0.3697; 난방부하 -0.2115; 총추정광량 0.5634; 백색광추정광량 0.5959; 적색광추정광량 0.0199; 청색광추정광량 0.3571; ,내부온도관측치 0.1370; 외부온도관측치 0.0901; 내부습도관측치 0.8039; 외부습도관측치 0.0146; CO2관측치 0.0895; EC관측치 -0.3278; 최근분무량 2.0347; 화이트 LED동작강도 0.4129; 레드 LED동작강도 -0.0657; 블루 LED동작강도 0.3574; 냉방온도 0.4259; 냉방부하 -0.8618; 난방온도 0.3697; 난방부하 -0.2115; 총추정광량 0.5637; 백색광추정광량 0.5966; 적색광추정광량 0.0185; 청색광추정광량 0.3576; \n",
       "y: EmptyLabelList\n",
       ",,,,\n",
       "Path: ."
      ]
     },
     "execution_count": 19,
     "metadata": {},
     "output_type": "execute_result"
    }
   ],
   "source": [
    "tab_data = (TabularList.from_df(train_df, path=data_path, cont_names=cont_names, procs=procs)\n",
    "                           .split_by_idx(val_idx)\n",
    "                           .label_from_df(cols=dep_var))\n",
    "\n",
    "# add test\n",
    "tab_data.add_test(TabularList.from_df(test_df, cont_names=cont_names,\n",
    "                                      processor = tab_data.train.x.processor))"
   ]
  },
  {
   "cell_type": "code",
   "execution_count": 20,
   "metadata": {},
   "outputs": [
    {
     "data": {
      "text/plain": [
       "(TabularLine [tensor(0), tensor([ 0.0600,  2.0522,  0.9475, -1.3070,  0.4416,  8.7748, -0.4863,  6.3013,\n",
       "          8.9661, -0.5290, -0.1454,  7.5596,  0.1813,  2.1974,  0.1641, -1.4222,\n",
       "          0.4667, -0.5382])],\n",
       " FloatItem 49.193)"
      ]
     },
     "execution_count": 20,
     "metadata": {},
     "output_type": "execute_result"
    }
   ],
   "source": [
    "# one example\n",
    "tab_data.train[0]"
   ]
  },
  {
   "cell_type": "code",
   "execution_count": 21,
   "metadata": {},
   "outputs": [],
   "source": [
    "integrate_train, integrate_valid, integrate_test = get_imagetabdatasets(image_data, tab_data)"
   ]
  },
  {
   "cell_type": "code",
   "execution_count": 22,
   "metadata": {},
   "outputs": [
    {
     "data": {
      "text/plain": [
       "DataBunch;\n",
       "\n",
       "Train: <image_tabular.dataset.ImageTabDataset object at 0x000001512FAB3CD0>;\n",
       "\n",
       "Valid: <image_tabular.dataset.ImageTabDataset object at 0x00000151288AFF10>;\n",
       "\n",
       "Test: <image_tabular.dataset.ImageTabDataset object at 0x000001512FAF6410>"
      ]
     },
     "execution_count": 22,
     "metadata": {},
     "output_type": "execute_result"
    }
   ],
   "source": [
    "# package train, valid, and test datasets into a fastai databunch\n",
    "bs = 64\n",
    "\n",
    "db = DataBunch.create(integrate_train, integrate_valid, integrate_test,\n",
    "                      path=data_path, bs=bs)\n",
    "db"
   ]
  },
  {
   "cell_type": "code",
   "execution_count": 182,
   "metadata": {},
   "outputs": [],
   "source": [
    "# image normalization with imagenet_stats\n",
    "# db.norm, db.denorm = normalize_funcs_image_tab(*imagenet_stats)\n",
    "# db.add_tfm(db.norm)"
   ]
  },
  {
   "cell_type": "code",
   "execution_count": 23,
   "metadata": {},
   "outputs": [
    {
     "data": {
      "text/plain": [
       "2"
      ]
     },
     "execution_count": 23,
     "metadata": {},
     "output_type": "execute_result"
    }
   ],
   "source": [
    "# check the shape of one batch\n",
    "x, y = next(iter(db.train_dl))\n",
    "len(x)"
   ]
  },
  {
   "cell_type": "code",
   "execution_count": 234,
   "metadata": {},
   "outputs": [
    {
     "data": {
      "text/plain": [
       "torch.Size([64, 3, 64, 64])"
      ]
     },
     "execution_count": 234,
     "metadata": {},
     "output_type": "execute_result"
    }
   ],
   "source": [
    "# images\n",
    "x[0].shape"
   ]
  },
  {
   "cell_type": "code",
   "execution_count": 235,
   "metadata": {},
   "outputs": [
    {
     "data": {
      "text/plain": [
       "(torch.Size([64]), torch.Size([64, 18]))"
      ]
     },
     "execution_count": 235,
     "metadata": {},
     "output_type": "execute_result"
    }
   ],
   "source": [
    "# categorical and continuous tabular data \n",
    "x[1][0].shape, x[1][1].shape"
   ]
  },
  {
   "cell_type": "code",
   "execution_count": 236,
   "metadata": {},
   "outputs": [
    {
     "data": {
      "text/plain": [
       "torch.Size([64, 1])"
      ]
     },
     "execution_count": 236,
     "metadata": {},
     "output_type": "execute_result"
    }
   ],
   "source": [
    "# targets\n",
    "y = y.unsqueeze(1)\n",
    "y.shape\n"
   ]
  },
  {
   "cell_type": "code",
   "execution_count": 252,
   "metadata": {},
   "outputs": [
    {
     "data": {
      "text/plain": [
       "Sequential(\n",
       "  (0): Sequential(\n",
       "    (0): Conv2d(3, 64, kernel_size=(7, 7), stride=(2, 2), padding=(3, 3), bias=False)\n",
       "    (1): BatchNorm2d(64, eps=1e-05, momentum=0.1, affine=True, track_running_stats=True)\n",
       "    (2): ReLU(inplace=True)\n",
       "    (3): MaxPool2d(kernel_size=3, stride=2, padding=1, dilation=1, ceil_mode=False)\n",
       "    (4): Sequential(\n",
       "      (0): BasicBlock(\n",
       "        (conv1): Conv2d(64, 64, kernel_size=(3, 3), stride=(1, 1), padding=(1, 1), bias=False)\n",
       "        (bn1): BatchNorm2d(64, eps=1e-05, momentum=0.1, affine=True, track_running_stats=True)\n",
       "        (relu): ReLU(inplace=True)\n",
       "        (conv2): Conv2d(64, 64, kernel_size=(3, 3), stride=(1, 1), padding=(1, 1), bias=False)\n",
       "        (bn2): BatchNorm2d(64, eps=1e-05, momentum=0.1, affine=True, track_running_stats=True)\n",
       "      )\n",
       "      (1): BasicBlock(\n",
       "        (conv1): Conv2d(64, 64, kernel_size=(3, 3), stride=(1, 1), padding=(1, 1), bias=False)\n",
       "        (bn1): BatchNorm2d(64, eps=1e-05, momentum=0.1, affine=True, track_running_stats=True)\n",
       "        (relu): ReLU(inplace=True)\n",
       "        (conv2): Conv2d(64, 64, kernel_size=(3, 3), stride=(1, 1), padding=(1, 1), bias=False)\n",
       "        (bn2): BatchNorm2d(64, eps=1e-05, momentum=0.1, affine=True, track_running_stats=True)\n",
       "      )\n",
       "    )\n",
       "    (5): Sequential(\n",
       "      (0): BasicBlock(\n",
       "        (conv1): Conv2d(64, 128, kernel_size=(3, 3), stride=(2, 2), padding=(1, 1), bias=False)\n",
       "        (bn1): BatchNorm2d(128, eps=1e-05, momentum=0.1, affine=True, track_running_stats=True)\n",
       "        (relu): ReLU(inplace=True)\n",
       "        (conv2): Conv2d(128, 128, kernel_size=(3, 3), stride=(1, 1), padding=(1, 1), bias=False)\n",
       "        (bn2): BatchNorm2d(128, eps=1e-05, momentum=0.1, affine=True, track_running_stats=True)\n",
       "        (downsample): Sequential(\n",
       "          (0): Conv2d(64, 128, kernel_size=(1, 1), stride=(2, 2), bias=False)\n",
       "          (1): BatchNorm2d(128, eps=1e-05, momentum=0.1, affine=True, track_running_stats=True)\n",
       "        )\n",
       "      )\n",
       "      (1): BasicBlock(\n",
       "        (conv1): Conv2d(128, 128, kernel_size=(3, 3), stride=(1, 1), padding=(1, 1), bias=False)\n",
       "        (bn1): BatchNorm2d(128, eps=1e-05, momentum=0.1, affine=True, track_running_stats=True)\n",
       "        (relu): ReLU(inplace=True)\n",
       "        (conv2): Conv2d(128, 128, kernel_size=(3, 3), stride=(1, 1), padding=(1, 1), bias=False)\n",
       "        (bn2): BatchNorm2d(128, eps=1e-05, momentum=0.1, affine=True, track_running_stats=True)\n",
       "      )\n",
       "    )\n",
       "    (6): Sequential(\n",
       "      (0): BasicBlock(\n",
       "        (conv1): Conv2d(128, 256, kernel_size=(3, 3), stride=(2, 2), padding=(1, 1), bias=False)\n",
       "        (bn1): BatchNorm2d(256, eps=1e-05, momentum=0.1, affine=True, track_running_stats=True)\n",
       "        (relu): ReLU(inplace=True)\n",
       "        (conv2): Conv2d(256, 256, kernel_size=(3, 3), stride=(1, 1), padding=(1, 1), bias=False)\n",
       "        (bn2): BatchNorm2d(256, eps=1e-05, momentum=0.1, affine=True, track_running_stats=True)\n",
       "        (downsample): Sequential(\n",
       "          (0): Conv2d(128, 256, kernel_size=(1, 1), stride=(2, 2), bias=False)\n",
       "          (1): BatchNorm2d(256, eps=1e-05, momentum=0.1, affine=True, track_running_stats=True)\n",
       "        )\n",
       "      )\n",
       "      (1): BasicBlock(\n",
       "        (conv1): Conv2d(256, 256, kernel_size=(3, 3), stride=(1, 1), padding=(1, 1), bias=False)\n",
       "        (bn1): BatchNorm2d(256, eps=1e-05, momentum=0.1, affine=True, track_running_stats=True)\n",
       "        (relu): ReLU(inplace=True)\n",
       "        (conv2): Conv2d(256, 256, kernel_size=(3, 3), stride=(1, 1), padding=(1, 1), bias=False)\n",
       "        (bn2): BatchNorm2d(256, eps=1e-05, momentum=0.1, affine=True, track_running_stats=True)\n",
       "      )\n",
       "    )\n",
       "    (7): Sequential(\n",
       "      (0): BasicBlock(\n",
       "        (conv1): Conv2d(256, 512, kernel_size=(3, 3), stride=(2, 2), padding=(1, 1), bias=False)\n",
       "        (bn1): BatchNorm2d(512, eps=1e-05, momentum=0.1, affine=True, track_running_stats=True)\n",
       "        (relu): ReLU(inplace=True)\n",
       "        (conv2): Conv2d(512, 512, kernel_size=(3, 3), stride=(1, 1), padding=(1, 1), bias=False)\n",
       "        (bn2): BatchNorm2d(512, eps=1e-05, momentum=0.1, affine=True, track_running_stats=True)\n",
       "        (downsample): Sequential(\n",
       "          (0): Conv2d(256, 512, kernel_size=(1, 1), stride=(2, 2), bias=False)\n",
       "          (1): BatchNorm2d(512, eps=1e-05, momentum=0.1, affine=True, track_running_stats=True)\n",
       "        )\n",
       "      )\n",
       "      (1): BasicBlock(\n",
       "        (conv1): Conv2d(512, 512, kernel_size=(3, 3), stride=(1, 1), padding=(1, 1), bias=False)\n",
       "        (bn1): BatchNorm2d(512, eps=1e-05, momentum=0.1, affine=True, track_running_stats=True)\n",
       "        (relu): ReLU(inplace=True)\n",
       "        (conv2): Conv2d(512, 512, kernel_size=(3, 3), stride=(1, 1), padding=(1, 1), bias=False)\n",
       "        (bn2): BatchNorm2d(512, eps=1e-05, momentum=0.1, affine=True, track_running_stats=True)\n",
       "      )\n",
       "    )\n",
       "  )\n",
       "  (1): Sequential(\n",
       "    (0): AdaptiveConcatPool2d(\n",
       "      (ap): AdaptiveAvgPool2d(output_size=1)\n",
       "      (mp): AdaptiveMaxPool2d(output_size=1)\n",
       "    )\n",
       "    (1): Flatten()\n",
       "    (2): BatchNorm1d(1024, eps=1e-05, momentum=0.1, affine=True, track_running_stats=True)\n",
       "    (3): Dropout(p=0.1, inplace=False)\n",
       "    (4): Linear(in_features=1024, out_features=512, bias=True)\n",
       "    (5): ReLU(inplace=True)\n",
       "    (6): BatchNorm1d(512, eps=1e-05, momentum=0.1, affine=True, track_running_stats=True)\n",
       "    (7): Dropout(p=0.2, inplace=False)\n",
       "    (8): Linear(in_features=512, out_features=256, bias=True)\n",
       "  )\n",
       ")"
      ]
     },
     "execution_count": 252,
     "metadata": {},
     "output_type": "execute_result"
    }
   ],
   "source": [
    "# cnn model for images, use Resnet50 as an example\n",
    "cnn_arch = models.resnet18\n",
    "\n",
    "# cnn_out_sz is the output size of the cnn model that will be concatenated with tabular model output\n",
    "cnn_out_sz = 256\n",
    "\n",
    "# use fastai functions to get a cnn model\n",
    "image_data_db = image_data.databunch()\n",
    "image_data_db.c = cnn_out_sz\n",
    "cnn_learn = cnn_learner(image_data_db, cnn_arch, ps=0.2)\n",
    "cnn_model = cnn_learn.model\n",
    "cnn_model"
   ]
  },
  {
   "cell_type": "code",
   "execution_count": 253,
   "metadata": {},
   "outputs": [
    {
     "data": {
      "text/plain": [
       "TabularModel(\n",
       "  (embeds): ModuleList()\n",
       "  (emb_drop): Dropout(p=0.0, inplace=False)\n",
       "  (bn_cont): BatchNorm1d(18, eps=1e-05, momentum=0.1, affine=True, track_running_stats=True)\n",
       "  (layers): Sequential(\n",
       "    (0): Linear(in_features=18, out_features=8, bias=True)\n",
       "    (1): ReLU(inplace=True)\n",
       "    (2): BatchNorm1d(8, eps=1e-05, momentum=0.1, affine=True, track_running_stats=True)\n",
       "    (3): Dropout(p=0.2, inplace=False)\n",
       "    (4): Linear(in_features=8, out_features=8, bias=True)\n",
       "  )\n",
       ")"
      ]
     },
     "execution_count": 253,
     "metadata": {},
     "output_type": "execute_result"
    }
   ],
   "source": [
    "# get embedding sizes of categorical data\n",
    "emb_szs = tab_data.train.get_emb_szs()\n",
    "\n",
    "# output size of the tabular model that will be concatenated with cnn model output\n",
    "tab_out_sz = 8\n",
    "\n",
    "# use fastai functions to get a tabular model\n",
    "tabular_model = TabularModel(emb_szs, len(cont_names), out_sz=tab_out_sz, layers=[8], ps=0.2)\n",
    "tabular_model"
   ]
  },
  {
   "cell_type": "code",
   "execution_count": 262,
   "metadata": {},
   "outputs": [],
   "source": [
    "# get an integrated model that combines the two components and concatenate their outputs\n",
    "# which will pass through additional fully connected layers\n",
    "integrate_model = CNNTabularModel(cnn_model,\n",
    "                                  tabular_model,\n",
    "                                  layers = [cnn_out_sz + tab_out_sz, 32],\n",
    "                                  ps=0.2,\n",
    "                                  out_sz=1).to(device)\n"
   ]
  },
  {
   "cell_type": "code",
   "execution_count": 263,
   "metadata": {},
   "outputs": [
    {
     "data": {
      "text/plain": [
       "CNNTabularModel(\n",
       "  (cnn_model): Sequential(\n",
       "    (0): Sequential(\n",
       "      (0): Conv2d(3, 64, kernel_size=(7, 7), stride=(2, 2), padding=(3, 3), bias=False)\n",
       "      (1): BatchNorm2d(64, eps=1e-05, momentum=0.1, affine=True, track_running_stats=True)\n",
       "      (2): ReLU(inplace=True)\n",
       "      (3): MaxPool2d(kernel_size=3, stride=2, padding=1, dilation=1, ceil_mode=False)\n",
       "      (4): Sequential(\n",
       "        (0): BasicBlock(\n",
       "          (conv1): Conv2d(64, 64, kernel_size=(3, 3), stride=(1, 1), padding=(1, 1), bias=False)\n",
       "          (bn1): BatchNorm2d(64, eps=1e-05, momentum=0.1, affine=True, track_running_stats=True)\n",
       "          (relu): ReLU(inplace=True)\n",
       "          (conv2): Conv2d(64, 64, kernel_size=(3, 3), stride=(1, 1), padding=(1, 1), bias=False)\n",
       "          (bn2): BatchNorm2d(64, eps=1e-05, momentum=0.1, affine=True, track_running_stats=True)\n",
       "        )\n",
       "        (1): BasicBlock(\n",
       "          (conv1): Conv2d(64, 64, kernel_size=(3, 3), stride=(1, 1), padding=(1, 1), bias=False)\n",
       "          (bn1): BatchNorm2d(64, eps=1e-05, momentum=0.1, affine=True, track_running_stats=True)\n",
       "          (relu): ReLU(inplace=True)\n",
       "          (conv2): Conv2d(64, 64, kernel_size=(3, 3), stride=(1, 1), padding=(1, 1), bias=False)\n",
       "          (bn2): BatchNorm2d(64, eps=1e-05, momentum=0.1, affine=True, track_running_stats=True)\n",
       "        )\n",
       "      )\n",
       "      (5): Sequential(\n",
       "        (0): BasicBlock(\n",
       "          (conv1): Conv2d(64, 128, kernel_size=(3, 3), stride=(2, 2), padding=(1, 1), bias=False)\n",
       "          (bn1): BatchNorm2d(128, eps=1e-05, momentum=0.1, affine=True, track_running_stats=True)\n",
       "          (relu): ReLU(inplace=True)\n",
       "          (conv2): Conv2d(128, 128, kernel_size=(3, 3), stride=(1, 1), padding=(1, 1), bias=False)\n",
       "          (bn2): BatchNorm2d(128, eps=1e-05, momentum=0.1, affine=True, track_running_stats=True)\n",
       "          (downsample): Sequential(\n",
       "            (0): Conv2d(64, 128, kernel_size=(1, 1), stride=(2, 2), bias=False)\n",
       "            (1): BatchNorm2d(128, eps=1e-05, momentum=0.1, affine=True, track_running_stats=True)\n",
       "          )\n",
       "        )\n",
       "        (1): BasicBlock(\n",
       "          (conv1): Conv2d(128, 128, kernel_size=(3, 3), stride=(1, 1), padding=(1, 1), bias=False)\n",
       "          (bn1): BatchNorm2d(128, eps=1e-05, momentum=0.1, affine=True, track_running_stats=True)\n",
       "          (relu): ReLU(inplace=True)\n",
       "          (conv2): Conv2d(128, 128, kernel_size=(3, 3), stride=(1, 1), padding=(1, 1), bias=False)\n",
       "          (bn2): BatchNorm2d(128, eps=1e-05, momentum=0.1, affine=True, track_running_stats=True)\n",
       "        )\n",
       "      )\n",
       "      (6): Sequential(\n",
       "        (0): BasicBlock(\n",
       "          (conv1): Conv2d(128, 256, kernel_size=(3, 3), stride=(2, 2), padding=(1, 1), bias=False)\n",
       "          (bn1): BatchNorm2d(256, eps=1e-05, momentum=0.1, affine=True, track_running_stats=True)\n",
       "          (relu): ReLU(inplace=True)\n",
       "          (conv2): Conv2d(256, 256, kernel_size=(3, 3), stride=(1, 1), padding=(1, 1), bias=False)\n",
       "          (bn2): BatchNorm2d(256, eps=1e-05, momentum=0.1, affine=True, track_running_stats=True)\n",
       "          (downsample): Sequential(\n",
       "            (0): Conv2d(128, 256, kernel_size=(1, 1), stride=(2, 2), bias=False)\n",
       "            (1): BatchNorm2d(256, eps=1e-05, momentum=0.1, affine=True, track_running_stats=True)\n",
       "          )\n",
       "        )\n",
       "        (1): BasicBlock(\n",
       "          (conv1): Conv2d(256, 256, kernel_size=(3, 3), stride=(1, 1), padding=(1, 1), bias=False)\n",
       "          (bn1): BatchNorm2d(256, eps=1e-05, momentum=0.1, affine=True, track_running_stats=True)\n",
       "          (relu): ReLU(inplace=True)\n",
       "          (conv2): Conv2d(256, 256, kernel_size=(3, 3), stride=(1, 1), padding=(1, 1), bias=False)\n",
       "          (bn2): BatchNorm2d(256, eps=1e-05, momentum=0.1, affine=True, track_running_stats=True)\n",
       "        )\n",
       "      )\n",
       "      (7): Sequential(\n",
       "        (0): BasicBlock(\n",
       "          (conv1): Conv2d(256, 512, kernel_size=(3, 3), stride=(2, 2), padding=(1, 1), bias=False)\n",
       "          (bn1): BatchNorm2d(512, eps=1e-05, momentum=0.1, affine=True, track_running_stats=True)\n",
       "          (relu): ReLU(inplace=True)\n",
       "          (conv2): Conv2d(512, 512, kernel_size=(3, 3), stride=(1, 1), padding=(1, 1), bias=False)\n",
       "          (bn2): BatchNorm2d(512, eps=1e-05, momentum=0.1, affine=True, track_running_stats=True)\n",
       "          (downsample): Sequential(\n",
       "            (0): Conv2d(256, 512, kernel_size=(1, 1), stride=(2, 2), bias=False)\n",
       "            (1): BatchNorm2d(512, eps=1e-05, momentum=0.1, affine=True, track_running_stats=True)\n",
       "          )\n",
       "        )\n",
       "        (1): BasicBlock(\n",
       "          (conv1): Conv2d(512, 512, kernel_size=(3, 3), stride=(1, 1), padding=(1, 1), bias=False)\n",
       "          (bn1): BatchNorm2d(512, eps=1e-05, momentum=0.1, affine=True, track_running_stats=True)\n",
       "          (relu): ReLU(inplace=True)\n",
       "          (conv2): Conv2d(512, 512, kernel_size=(3, 3), stride=(1, 1), padding=(1, 1), bias=False)\n",
       "          (bn2): BatchNorm2d(512, eps=1e-05, momentum=0.1, affine=True, track_running_stats=True)\n",
       "        )\n",
       "      )\n",
       "    )\n",
       "    (1): Sequential(\n",
       "      (0): AdaptiveConcatPool2d(\n",
       "        (ap): AdaptiveAvgPool2d(output_size=1)\n",
       "        (mp): AdaptiveMaxPool2d(output_size=1)\n",
       "      )\n",
       "      (1): Flatten()\n",
       "      (2): BatchNorm1d(1024, eps=1e-05, momentum=0.1, affine=True, track_running_stats=True)\n",
       "      (3): Dropout(p=0.1, inplace=False)\n",
       "      (4): Linear(in_features=1024, out_features=512, bias=True)\n",
       "      (5): ReLU(inplace=True)\n",
       "      (6): BatchNorm1d(512, eps=1e-05, momentum=0.1, affine=True, track_running_stats=True)\n",
       "      (7): Dropout(p=0.2, inplace=False)\n",
       "      (8): Linear(in_features=512, out_features=256, bias=True)\n",
       "    )\n",
       "  )\n",
       "  (tabular_model): TabularModel(\n",
       "    (embeds): ModuleList()\n",
       "    (emb_drop): Dropout(p=0.0, inplace=False)\n",
       "    (bn_cont): BatchNorm1d(18, eps=1e-05, momentum=0.1, affine=True, track_running_stats=True)\n",
       "    (layers): Sequential(\n",
       "      (0): Linear(in_features=18, out_features=8, bias=True)\n",
       "      (1): ReLU(inplace=True)\n",
       "      (2): BatchNorm1d(8, eps=1e-05, momentum=0.1, affine=True, track_running_stats=True)\n",
       "      (3): Dropout(p=0.2, inplace=False)\n",
       "      (4): Linear(in_features=8, out_features=8, bias=True)\n",
       "    )\n",
       "  )\n",
       "  (layers): Sequential(\n",
       "    (0): BatchNorm1d(264, eps=1e-05, momentum=0.1, affine=True, track_running_stats=True)\n",
       "    (1): Dropout(p=0.2, inplace=False)\n",
       "    (2): Linear(in_features=264, out_features=32, bias=True)\n",
       "    (3): ReLU(inplace=True)\n",
       "    (4): BatchNorm1d(32, eps=1e-05, momentum=0.1, affine=True, track_running_stats=True)\n",
       "    (5): Dropout(p=0.2, inplace=False)\n",
       "    (6): Linear(in_features=32, out_features=1, bias=True)\n",
       "  )\n",
       ")"
      ]
     },
     "execution_count": 263,
     "metadata": {},
     "output_type": "execute_result"
    }
   ],
   "source": [
    "# check model output dimension, should be (bs, 2)\n",
    "integrate_model(*x).shape\n",
    "integrate_model"
   ]
  },
  {
   "cell_type": "code",
   "execution_count": 118,
   "metadata": {},
   "outputs": [],
   "source": [
    "# adjust loss function weight because the dataset is extremely unbalanced\n",
    "# weights = [1/(1-train_df[\"무게\"].mean()), 1/train_df[\"무게\"].mean()]\n",
    "# loss_func = CrossEntropyFlat(weight=torch.FloatTensor(weights).to(device))"
   ]
  },
  {
   "cell_type": "code",
   "execution_count": 256,
   "metadata": {},
   "outputs": [],
   "source": [
    "# package everything in a fastai learner, add auc roc score as a metric\n",
    "learn = Learner(db, integrate_model, loss_func=nn.L1Loss().to(device))"
   ]
  },
  {
   "cell_type": "code",
   "execution_count": 257,
   "metadata": {},
   "outputs": [],
   "source": [
    "# organize layer groups in order to use differential learning rates provided by fastai\n",
    "# the first two layer groups are earlier layers of resnet\n",
    "# the last layer group consists of the fully connected layers of cnn model, tabular model,\n",
    "# and final fully connected layers for the concatenated data\n",
    "learn.layer_groups = [nn.Sequential(*flatten_model(cnn_learn.layer_groups[0])),\n",
    "                      nn.Sequential(*flatten_model(cnn_learn.layer_groups[1])),\n",
    "                      nn.Sequential(*(flatten_model(cnn_learn.layer_groups[2]) +\n",
    "                                      flatten_model(integrate_model.tabular_model) +\n",
    "                                      flatten_model(integrate_model.layers)))]"
   ]
  },
  {
   "cell_type": "code",
   "execution_count": 24,
   "metadata": {},
   "outputs": [
    {
     "ename": "NameError",
     "evalue": "name 'learn' is not defined",
     "output_type": "error",
     "traceback": [
      "\u001b[1;31m---------------------------------------------------------------------------\u001b[0m",
      "\u001b[1;31mNameError\u001b[0m                                 Traceback (most recent call last)",
      "\u001b[1;32mc:\\Users\\skmoon\\Desktop\\Virtual\\memory.ipynb Cell 29'\u001b[0m in \u001b[0;36m<cell line: 2>\u001b[1;34m()\u001b[0m\n\u001b[0;32m      <a href='vscode-notebook-cell:/c%3A/Users/skmoon/Desktop/Virtual/memory.ipynb#ch0000028?line=0'>1</a>\u001b[0m \u001b[39m# find learning rate to train the last layer group first \u001b[39;00m\n\u001b[1;32m----> <a href='vscode-notebook-cell:/c%3A/Users/skmoon/Desktop/Virtual/memory.ipynb#ch0000028?line=1'>2</a>\u001b[0m learn\u001b[39m.\u001b[39mfreeze()\n\u001b[0;32m      <a href='vscode-notebook-cell:/c%3A/Users/skmoon/Desktop/Virtual/memory.ipynb#ch0000028?line=2'>3</a>\u001b[0m learn\u001b[39m.\u001b[39mlr_find()\n\u001b[0;32m      <a href='vscode-notebook-cell:/c%3A/Users/skmoon/Desktop/Virtual/memory.ipynb#ch0000028?line=3'>4</a>\u001b[0m learn\u001b[39m.\u001b[39mrecorder\u001b[39m.\u001b[39mplot()\n",
      "\u001b[1;31mNameError\u001b[0m: name 'learn' is not defined"
     ]
    }
   ],
   "source": [
    "# find learning rate to train the last layer group first \n",
    "learn.freeze()\n",
    "learn.lr_find()\n",
    "learn.recorder.plot()"
   ]
  },
  {
   "cell_type": "code",
   "execution_count": null,
   "metadata": {},
   "outputs": [],
   "source": [
    "# train\n",
    "learn.fit_one_cycle(10, 1e-3)"
   ]
  },
  {
   "cell_type": "code",
   "execution_count": 265,
   "metadata": {},
   "outputs": [
    {
     "data": {
      "text/html": [
       "\n",
       "<style>\n",
       "    /* Turns off some styling */\n",
       "    progress {\n",
       "        /* gets rid of default border in Firefox and Opera. */\n",
       "        border: none;\n",
       "        /* Needs to be in here for Safari polyfill so background images work as expected. */\n",
       "        background-size: auto;\n",
       "    }\n",
       "    .progress-bar-interrupted, .progress-bar-interrupted::-webkit-progress-bar {\n",
       "        background: #F44336;\n",
       "    }\n",
       "</style>\n"
      ],
      "text/plain": [
       "<IPython.core.display.HTML object>"
      ]
     },
     "metadata": {},
     "output_type": "display_data"
    },
    {
     "data": {
      "text/html": [
       "\n",
       "    <div>\n",
       "      <progress value='3' class='' max='5' style='width:300px; height:20px; vertical-align: middle;'></progress>\n",
       "      60.00% [3/5 07:11<04:47]\n",
       "    </div>\n",
       "    \n",
       "<table border=\"1\" class=\"dataframe\">\n",
       "  <thead>\n",
       "    <tr style=\"text-align: left;\">\n",
       "      <th>epoch</th>\n",
       "      <th>train_loss</th>\n",
       "      <th>valid_loss</th>\n",
       "      <th>time</th>\n",
       "    </tr>\n",
       "  </thead>\n",
       "  <tbody>\n",
       "    <tr>\n",
       "      <td>0</td>\n",
       "      <td>82.912102</td>\n",
       "      <td>68.752441</td>\n",
       "      <td>02:32</td>\n",
       "    </tr>\n",
       "    <tr>\n",
       "      <td>1</td>\n",
       "      <td>82.089897</td>\n",
       "      <td>68.761292</td>\n",
       "      <td>02:25</td>\n",
       "    </tr>\n",
       "    <tr>\n",
       "      <td>2</td>\n",
       "      <td>81.422974</td>\n",
       "      <td>68.127014</td>\n",
       "      <td>02:14</td>\n",
       "    </tr>\n",
       "  </tbody>\n",
       "</table><p>\n",
       "\n",
       "    <div>\n",
       "      <progress value='6' class='' max='19' style='width:300px; height:20px; vertical-align: middle;'></progress>\n",
       "      31.58% [6/19 01:18<02:50 81.0028]\n",
       "    </div>\n",
       "    "
      ],
      "text/plain": [
       "<IPython.core.display.HTML object>"
      ]
     },
     "metadata": {},
     "output_type": "display_data"
    },
    {
     "ename": "KeyboardInterrupt",
     "evalue": "",
     "output_type": "error",
     "traceback": [
      "\u001b[1;31m---------------------------------------------------------------------------\u001b[0m",
      "\u001b[1;31mKeyboardInterrupt\u001b[0m                         Traceback (most recent call last)",
      "\u001b[1;32mc:\\Users\\skmoon\\Desktop\\Virtual\\memory.ipynb Cell 31'\u001b[0m in \u001b[0;36m<cell line: 3>\u001b[1;34m()\u001b[0m\n\u001b[0;32m      <a href='vscode-notebook-cell:/c%3A/Users/skmoon/Desktop/Virtual/memory.ipynb#ch0000030?line=0'>1</a>\u001b[0m \u001b[39m# unfreeze all layer groups to train the entire model using differential learning rates\u001b[39;00m\n\u001b[0;32m      <a href='vscode-notebook-cell:/c%3A/Users/skmoon/Desktop/Virtual/memory.ipynb#ch0000030?line=1'>2</a>\u001b[0m learn\u001b[39m.\u001b[39munfreeze()\n\u001b[1;32m----> <a href='vscode-notebook-cell:/c%3A/Users/skmoon/Desktop/Virtual/memory.ipynb#ch0000030?line=2'>3</a>\u001b[0m learn\u001b[39m.\u001b[39;49mfit_one_cycle(\u001b[39m5\u001b[39;49m, \u001b[39mslice\u001b[39;49m(\u001b[39m2e-3\u001b[39;49m, \u001b[39m1e-3\u001b[39;49m))\n",
      "File \u001b[1;32mc:\\Users\\skmoon\\Desktop\\Virtual\\.venv\\lib\\site-packages\\fastai\\train.py:23\u001b[0m, in \u001b[0;36mfit_one_cycle\u001b[1;34m(learn, cyc_len, max_lr, moms, div_factor, pct_start, final_div, wd, callbacks, tot_epochs, start_epoch)\u001b[0m\n\u001b[0;32m     <a href='file:///c%3A/Users/skmoon/Desktop/Virtual/.venv/lib/site-packages/fastai/train.py?line=19'>20</a>\u001b[0m callbacks \u001b[39m=\u001b[39m listify(callbacks)\n\u001b[0;32m     <a href='file:///c%3A/Users/skmoon/Desktop/Virtual/.venv/lib/site-packages/fastai/train.py?line=20'>21</a>\u001b[0m callbacks\u001b[39m.\u001b[39mappend(OneCycleScheduler(learn, max_lr, moms\u001b[39m=\u001b[39mmoms, div_factor\u001b[39m=\u001b[39mdiv_factor, pct_start\u001b[39m=\u001b[39mpct_start,\n\u001b[0;32m     <a href='file:///c%3A/Users/skmoon/Desktop/Virtual/.venv/lib/site-packages/fastai/train.py?line=21'>22</a>\u001b[0m                                    final_div\u001b[39m=\u001b[39mfinal_div, tot_epochs\u001b[39m=\u001b[39mtot_epochs, start_epoch\u001b[39m=\u001b[39mstart_epoch))\n\u001b[1;32m---> <a href='file:///c%3A/Users/skmoon/Desktop/Virtual/.venv/lib/site-packages/fastai/train.py?line=22'>23</a>\u001b[0m learn\u001b[39m.\u001b[39;49mfit(cyc_len, max_lr, wd\u001b[39m=\u001b[39;49mwd, callbacks\u001b[39m=\u001b[39;49mcallbacks)\n",
      "File \u001b[1;32mc:\\Users\\skmoon\\Desktop\\Virtual\\.venv\\lib\\site-packages\\fastai\\basic_train.py:200\u001b[0m, in \u001b[0;36mLearner.fit\u001b[1;34m(self, epochs, lr, wd, callbacks)\u001b[0m\n\u001b[0;32m    <a href='file:///c%3A/Users/skmoon/Desktop/Virtual/.venv/lib/site-packages/fastai/basic_train.py?line=197'>198</a>\u001b[0m \u001b[39melse\u001b[39;00m: \u001b[39mself\u001b[39m\u001b[39m.\u001b[39mopt\u001b[39m.\u001b[39mlr,\u001b[39mself\u001b[39m\u001b[39m.\u001b[39mopt\u001b[39m.\u001b[39mwd \u001b[39m=\u001b[39m lr,wd\n\u001b[0;32m    <a href='file:///c%3A/Users/skmoon/Desktop/Virtual/.venv/lib/site-packages/fastai/basic_train.py?line=198'>199</a>\u001b[0m callbacks \u001b[39m=\u001b[39m [cb(\u001b[39mself\u001b[39m) \u001b[39mfor\u001b[39;00m cb \u001b[39min\u001b[39;00m \u001b[39mself\u001b[39m\u001b[39m.\u001b[39mcallback_fns \u001b[39m+\u001b[39m listify(defaults\u001b[39m.\u001b[39mextra_callback_fns)] \u001b[39m+\u001b[39m listify(callbacks)\n\u001b[1;32m--> <a href='file:///c%3A/Users/skmoon/Desktop/Virtual/.venv/lib/site-packages/fastai/basic_train.py?line=199'>200</a>\u001b[0m fit(epochs, \u001b[39mself\u001b[39;49m, metrics\u001b[39m=\u001b[39;49m\u001b[39mself\u001b[39;49m\u001b[39m.\u001b[39;49mmetrics, callbacks\u001b[39m=\u001b[39;49m\u001b[39mself\u001b[39;49m\u001b[39m.\u001b[39;49mcallbacks\u001b[39m+\u001b[39;49mcallbacks)\n",
      "File \u001b[1;32mc:\\Users\\skmoon\\Desktop\\Virtual\\.venv\\lib\\site-packages\\fastai\\basic_train.py:101\u001b[0m, in \u001b[0;36mfit\u001b[1;34m(epochs, learn, callbacks, metrics)\u001b[0m\n\u001b[0;32m     <a href='file:///c%3A/Users/skmoon/Desktop/Virtual/.venv/lib/site-packages/fastai/basic_train.py?line=98'>99</a>\u001b[0m \u001b[39mfor\u001b[39;00m xb,yb \u001b[39min\u001b[39;00m progress_bar(learn\u001b[39m.\u001b[39mdata\u001b[39m.\u001b[39mtrain_dl, parent\u001b[39m=\u001b[39mpbar):\n\u001b[0;32m    <a href='file:///c%3A/Users/skmoon/Desktop/Virtual/.venv/lib/site-packages/fastai/basic_train.py?line=99'>100</a>\u001b[0m     xb, yb \u001b[39m=\u001b[39m cb_handler\u001b[39m.\u001b[39mon_batch_begin(xb, yb)\n\u001b[1;32m--> <a href='file:///c%3A/Users/skmoon/Desktop/Virtual/.venv/lib/site-packages/fastai/basic_train.py?line=100'>101</a>\u001b[0m     loss \u001b[39m=\u001b[39m loss_batch(learn\u001b[39m.\u001b[39;49mmodel, xb, yb, learn\u001b[39m.\u001b[39;49mloss_func, learn\u001b[39m.\u001b[39;49mopt, cb_handler)\n\u001b[0;32m    <a href='file:///c%3A/Users/skmoon/Desktop/Virtual/.venv/lib/site-packages/fastai/basic_train.py?line=101'>102</a>\u001b[0m     \u001b[39mif\u001b[39;00m cb_handler\u001b[39m.\u001b[39mon_batch_end(loss): \u001b[39mbreak\u001b[39;00m\n\u001b[0;32m    <a href='file:///c%3A/Users/skmoon/Desktop/Virtual/.venv/lib/site-packages/fastai/basic_train.py?line=103'>104</a>\u001b[0m \u001b[39mif\u001b[39;00m \u001b[39mnot\u001b[39;00m cb_handler\u001b[39m.\u001b[39mskip_validate \u001b[39mand\u001b[39;00m \u001b[39mnot\u001b[39;00m learn\u001b[39m.\u001b[39mdata\u001b[39m.\u001b[39mempty_val:\n",
      "File \u001b[1;32mc:\\Users\\skmoon\\Desktop\\Virtual\\.venv\\lib\\site-packages\\fastai\\basic_train.py:34\u001b[0m, in \u001b[0;36mloss_batch\u001b[1;34m(model, xb, yb, loss_func, opt, cb_handler)\u001b[0m\n\u001b[0;32m     <a href='file:///c%3A/Users/skmoon/Desktop/Virtual/.venv/lib/site-packages/fastai/basic_train.py?line=31'>32</a>\u001b[0m \u001b[39mif\u001b[39;00m opt \u001b[39mis\u001b[39;00m \u001b[39mnot\u001b[39;00m \u001b[39mNone\u001b[39;00m:\n\u001b[0;32m     <a href='file:///c%3A/Users/skmoon/Desktop/Virtual/.venv/lib/site-packages/fastai/basic_train.py?line=32'>33</a>\u001b[0m     loss,skip_bwd \u001b[39m=\u001b[39m cb_handler\u001b[39m.\u001b[39mon_backward_begin(loss)\n\u001b[1;32m---> <a href='file:///c%3A/Users/skmoon/Desktop/Virtual/.venv/lib/site-packages/fastai/basic_train.py?line=33'>34</a>\u001b[0m     \u001b[39mif\u001b[39;00m \u001b[39mnot\u001b[39;00m skip_bwd:                     loss\u001b[39m.\u001b[39;49mbackward()\n\u001b[0;32m     <a href='file:///c%3A/Users/skmoon/Desktop/Virtual/.venv/lib/site-packages/fastai/basic_train.py?line=34'>35</a>\u001b[0m     \u001b[39mif\u001b[39;00m \u001b[39mnot\u001b[39;00m cb_handler\u001b[39m.\u001b[39mon_backward_end(): opt\u001b[39m.\u001b[39mstep()\n\u001b[0;32m     <a href='file:///c%3A/Users/skmoon/Desktop/Virtual/.venv/lib/site-packages/fastai/basic_train.py?line=35'>36</a>\u001b[0m     \u001b[39mif\u001b[39;00m \u001b[39mnot\u001b[39;00m cb_handler\u001b[39m.\u001b[39mon_step_end():     opt\u001b[39m.\u001b[39mzero_grad()\n",
      "File \u001b[1;32mc:\\Users\\skmoon\\Desktop\\Virtual\\.venv\\lib\\site-packages\\torch\\_tensor.py:363\u001b[0m, in \u001b[0;36mTensor.backward\u001b[1;34m(self, gradient, retain_graph, create_graph, inputs)\u001b[0m\n\u001b[0;32m    <a href='file:///c%3A/Users/skmoon/Desktop/Virtual/.venv/lib/site-packages/torch/_tensor.py?line=353'>354</a>\u001b[0m \u001b[39mif\u001b[39;00m has_torch_function_unary(\u001b[39mself\u001b[39m):\n\u001b[0;32m    <a href='file:///c%3A/Users/skmoon/Desktop/Virtual/.venv/lib/site-packages/torch/_tensor.py?line=354'>355</a>\u001b[0m     \u001b[39mreturn\u001b[39;00m handle_torch_function(\n\u001b[0;32m    <a href='file:///c%3A/Users/skmoon/Desktop/Virtual/.venv/lib/site-packages/torch/_tensor.py?line=355'>356</a>\u001b[0m         Tensor\u001b[39m.\u001b[39mbackward,\n\u001b[0;32m    <a href='file:///c%3A/Users/skmoon/Desktop/Virtual/.venv/lib/site-packages/torch/_tensor.py?line=356'>357</a>\u001b[0m         (\u001b[39mself\u001b[39m,),\n\u001b[1;32m   (...)\u001b[0m\n\u001b[0;32m    <a href='file:///c%3A/Users/skmoon/Desktop/Virtual/.venv/lib/site-packages/torch/_tensor.py?line=360'>361</a>\u001b[0m         create_graph\u001b[39m=\u001b[39mcreate_graph,\n\u001b[0;32m    <a href='file:///c%3A/Users/skmoon/Desktop/Virtual/.venv/lib/site-packages/torch/_tensor.py?line=361'>362</a>\u001b[0m         inputs\u001b[39m=\u001b[39minputs)\n\u001b[1;32m--> <a href='file:///c%3A/Users/skmoon/Desktop/Virtual/.venv/lib/site-packages/torch/_tensor.py?line=362'>363</a>\u001b[0m torch\u001b[39m.\u001b[39;49mautograd\u001b[39m.\u001b[39;49mbackward(\u001b[39mself\u001b[39;49m, gradient, retain_graph, create_graph, inputs\u001b[39m=\u001b[39;49minputs)\n",
      "File \u001b[1;32mc:\\Users\\skmoon\\Desktop\\Virtual\\.venv\\lib\\site-packages\\torch\\autograd\\__init__.py:173\u001b[0m, in \u001b[0;36mbackward\u001b[1;34m(tensors, grad_tensors, retain_graph, create_graph, grad_variables, inputs)\u001b[0m\n\u001b[0;32m    <a href='file:///c%3A/Users/skmoon/Desktop/Virtual/.venv/lib/site-packages/torch/autograd/__init__.py?line=167'>168</a>\u001b[0m     retain_graph \u001b[39m=\u001b[39m create_graph\n\u001b[0;32m    <a href='file:///c%3A/Users/skmoon/Desktop/Virtual/.venv/lib/site-packages/torch/autograd/__init__.py?line=169'>170</a>\u001b[0m \u001b[39m# The reason we repeat same the comment below is that\u001b[39;00m\n\u001b[0;32m    <a href='file:///c%3A/Users/skmoon/Desktop/Virtual/.venv/lib/site-packages/torch/autograd/__init__.py?line=170'>171</a>\u001b[0m \u001b[39m# some Python versions print out the first line of a multi-line function\u001b[39;00m\n\u001b[0;32m    <a href='file:///c%3A/Users/skmoon/Desktop/Virtual/.venv/lib/site-packages/torch/autograd/__init__.py?line=171'>172</a>\u001b[0m \u001b[39m# calls in the traceback and some print out the last line\u001b[39;00m\n\u001b[1;32m--> <a href='file:///c%3A/Users/skmoon/Desktop/Virtual/.venv/lib/site-packages/torch/autograd/__init__.py?line=172'>173</a>\u001b[0m Variable\u001b[39m.\u001b[39;49m_execution_engine\u001b[39m.\u001b[39;49mrun_backward(  \u001b[39m# Calls into the C++ engine to run the backward pass\u001b[39;49;00m\n\u001b[0;32m    <a href='file:///c%3A/Users/skmoon/Desktop/Virtual/.venv/lib/site-packages/torch/autograd/__init__.py?line=173'>174</a>\u001b[0m     tensors, grad_tensors_, retain_graph, create_graph, inputs,\n\u001b[0;32m    <a href='file:///c%3A/Users/skmoon/Desktop/Virtual/.venv/lib/site-packages/torch/autograd/__init__.py?line=174'>175</a>\u001b[0m     allow_unreachable\u001b[39m=\u001b[39;49m\u001b[39mTrue\u001b[39;49;00m, accumulate_grad\u001b[39m=\u001b[39;49m\u001b[39mTrue\u001b[39;49;00m)\n",
      "\u001b[1;31mKeyboardInterrupt\u001b[0m: "
     ]
    }
   ],
   "source": [
    "# unfreeze all layer groups to train the entire model using differential learning rates\n",
    "learn.unfreeze()\n",
    "learn.fit_one_cycle(5, slice(2e-3, 1e-3))"
   ]
  },
  {
   "cell_type": "code",
   "execution_count": 214,
   "metadata": {},
   "outputs": [
    {
     "data": {
      "text/html": [
       "\n",
       "<style>\n",
       "    /* Turns off some styling */\n",
       "    progress {\n",
       "        /* gets rid of default border in Firefox and Opera. */\n",
       "        border: none;\n",
       "        /* Needs to be in here for Safari polyfill so background images work as expected. */\n",
       "        background-size: auto;\n",
       "    }\n",
       "    .progress-bar-interrupted, .progress-bar-interrupted::-webkit-progress-bar {\n",
       "        background: #F44336;\n",
       "    }\n",
       "</style>\n"
      ],
      "text/plain": [
       "<IPython.core.display.HTML object>"
      ]
     },
     "metadata": {},
     "output_type": "display_data"
    },
    {
     "data": {
      "text/html": [],
      "text/plain": [
       "<IPython.core.display.HTML object>"
      ]
     },
     "metadata": {},
     "output_type": "display_data"
    }
   ],
   "source": [
    "# make predictions for the test set\n",
    "preds, y = learn.get_preds(DatasetType.Test)"
   ]
  },
  {
   "cell_type": "code",
   "execution_count": 215,
   "metadata": {},
   "outputs": [],
   "source": [
    "# submit predictions to kaggle\n",
    "submit = pd.read_csv(data_path/\"sample_submission.csv\")\n",
    "submit[\"leaf_weight\"] = preds\n",
    "submit.to_csv(data_path/\"image_tab.csv\", index=False)"
   ]
  }
 ],
 "metadata": {
  "interpreter": {
   "hash": "e4b2efc38b2d515988bc352e9a03650f6887bdeb2a5ac57c4c2845cabee8e10b"
  },
  "kernelspec": {
   "display_name": "Python 3.10.4 ('.venv': venv)",
   "language": "python",
   "name": "python3"
  },
  "language_info": {
   "codemirror_mode": {
    "name": "ipython",
    "version": 3
   },
   "file_extension": ".py",
   "mimetype": "text/x-python",
   "name": "python",
   "nbconvert_exporter": "python",
   "pygments_lexer": "ipython3",
   "version": "3.10.4"
  },
  "orig_nbformat": 4
 },
 "nbformat": 4,
 "nbformat_minor": 2
}
